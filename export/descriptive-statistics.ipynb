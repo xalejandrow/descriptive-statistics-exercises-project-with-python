{
  "cells": [
    {
      "cell_type": "markdown",
      "metadata": {
        "id": "view-in-github",
        "colab_type": "text"
      },
      "source": [
        "<a href=\"https://colab.research.google.com/github/xalejandrow/descriptive-statistics-exercises-project-with-python/blob/main/export/descriptive-statistics.ipynb\" target=\"_parent\"><img src=\"https://colab.research.google.com/assets/colab-badge.svg\" alt=\"Open In Colab\"/></a>"
      ]
    },
    {
      "cell_type": "markdown",
      "id": "bdaaae0a",
      "metadata": {
        "id": "bdaaae0a"
      },
      "source": [
        "# DESCRIPTIVE STATISTICS"
      ]
    },
    {
      "cell_type": "markdown",
      "id": "7f2cac8b",
      "metadata": {
        "id": "7f2cac8b"
      },
      "source": [
        "We can divide Statistics field in two categories:\n",
        "    \n",
        "Descriptive Statistics and Inferential Statistics."
      ]
    },
    {
      "cell_type": "markdown",
      "id": "f832d339",
      "metadata": {
        "id": "f832d339"
      },
      "source": [
        "Descriptive Statistics means summarizing and organizing the data, for example having a lot of data and you want to tell someone about it without giving them all of the data, so you can use indicative numbers.\n",
        "This is different from Inferential Statistics.\n",
        "Inferential Statistics means attempting to make inferences  or conclusions from a sample to the whole population.\n",
        "\n",
        "So using descriptive statistics maybe you want to use a number that is most indicative of all of the numbers in that set. Or some of the numbers that represent the central tendency.\n",
        "\n",
        "We will begin by listing the measures of central tendency, which represents the idea that there is one number that best summarizes the entire set."
      ]
    },
    {
      "cell_type": "markdown",
      "id": "fc2fc57f",
      "metadata": {
        "id": "fc2fc57f"
      },
      "source": [
        "### Measures of central tendency"
      ]
    },
    {
      "cell_type": "markdown",
      "id": "b7dc553c",
      "metadata": {
        "id": "b7dc553c"
      },
      "source": [
        "**Moments**\n",
        "\n",
        "A moment is a quantitative measure that says something about the shape of a distribution. There are central moments and non-central moments. This section is focused on the central moments. This central tendency measures represent the idea that there is one number that best summarizes the entire set.\n",
        "\n",
        "The 0th central moment is the total probability and is always equal to 1.\n",
        "\n",
        "The 1st moment is the mean (expected value).\n",
        "\n",
        "The 2nd central moment is the variance."
      ]
    },
    {
      "cell_type": "markdown",
      "id": "6fc52f38",
      "metadata": {
        "id": "6fc52f38"
      },
      "source": [
        "**Mean**\n",
        "\n",
        "The arithmetic mean is probably what you are most familiar with when people talk about average.\n",
        "If you have five numbers, the mean would be the sum of those five numbers divided by 5. It is the balance point and it is also called the first moment."
      ]
    },
    {
      "cell_type": "markdown",
      "id": "7e082b62",
      "metadata": {
        "id": "7e082b62"
      },
      "source": [
        "**Median**"
      ]
    },
    {
      "cell_type": "markdown",
      "id": "24058744",
      "metadata": {
        "id": "24058744"
      },
      "source": [
        "Value that divides data in two equal parts. If the number of elements in the data is even, then the median would be the average of the two middle terms.\n",
        "When the difference between the consecutive terms is constant (arithmetic progression) then the median = mean."
      ]
    },
    {
      "cell_type": "markdown",
      "id": "53bafc46",
      "metadata": {
        "id": "53bafc46"
      },
      "source": [
        "**Mode**"
      ]
    },
    {
      "cell_type": "markdown",
      "id": "225e87e8",
      "metadata": {
        "id": "225e87e8"
      },
      "source": [
        "The mode is essentially what number is most common in a set. If two values appear same time more than others then we have a bimodal set. We can also can trimodal or multimodal sets."
      ]
    },
    {
      "cell_type": "markdown",
      "id": "178cb54e",
      "metadata": {
        "id": "178cb54e"
      },
      "source": [
        "### Measures of variability"
      ]
    },
    {
      "cell_type": "markdown",
      "id": "da067f6b",
      "metadata": {
        "id": "da067f6b"
      },
      "source": [
        "This measures represent how spread is the data."
      ]
    },
    {
      "cell_type": "markdown",
      "id": "b8281b79",
      "metadata": {
        "id": "b8281b79"
      },
      "source": [
        "**Standard Deviation**"
      ]
    },
    {
      "cell_type": "markdown",
      "id": "9ac24286",
      "metadata": {
        "id": "9ac24286"
      },
      "source": [
        "Standard deviation tells us how far is the mean from each observation in the given data set.\n",
        "\n",
        "In descriptive statistics we generally deal with data available in a sample, not in a population. The standard deviation is calculated with the square root of the variance."
      ]
    },
    {
      "cell_type": "markdown",
      "id": "6bb0168f",
      "metadata": {
        "id": "6bb0168f"
      },
      "source": [
        "![descriptive_stats_standard_deviation.jpg](https://github.com/4GeeksAcademy/machine-learning-content/blob/master/assets/descriptive_stats_standard_deviation.jpg?raw=1)"
      ]
    },
    {
      "cell_type": "markdown",
      "id": "62b80670",
      "metadata": {
        "id": "62b80670"
      },
      "source": [
        "**Mean Deviation**"
      ]
    },
    {
      "cell_type": "markdown",
      "id": "9e34bf19",
      "metadata": {
        "id": "9e34bf19"
      },
      "source": [
        "The mean deviation gives information about how far the data values are spread out from the mean value."
      ]
    },
    {
      "cell_type": "markdown",
      "id": "f879f215",
      "metadata": {
        "id": "f879f215"
      },
      "source": [
        "![descriptive_stats_mean_deviation.jpg](https://github.com/4GeeksAcademy/machine-learning-content/blob/master/assets/descriptive_stats_mean_deviation.jpg?raw=1)"
      ]
    },
    {
      "cell_type": "markdown",
      "id": "c4fac52c",
      "metadata": {
        "id": "c4fac52c"
      },
      "source": [
        "**Variance**"
      ]
    },
    {
      "cell_type": "markdown",
      "id": "bb010527",
      "metadata": {
        "id": "bb010527"
      },
      "source": [
        "Just another measure of dispersion, of how data points differ from the mean. Variance is the expectation of the squared deviation of a random variable from its population mean or sample mean. Variance is interesting in a mathematical sense, but the standard deviation is often a much better measure of how spread out the distribution is."
      ]
    },
    {
      "cell_type": "markdown",
      "id": "3496490e",
      "metadata": {
        "id": "3496490e"
      },
      "source": [
        "![descriptive_stats_variance.jpg](https://github.com/4GeeksAcademy/machine-learning-content/blob/master/assets/descriptive_stats_variance.jpg?raw=1)"
      ]
    },
    {
      "cell_type": "markdown",
      "id": "2a674a54",
      "metadata": {
        "id": "2a674a54"
      },
      "source": [
        "**Range**"
      ]
    },
    {
      "cell_type": "markdown",
      "id": "48f04354",
      "metadata": {
        "id": "48f04354"
      },
      "source": [
        "Range is the difference between the lowest and the highest value."
      ]
    },
    {
      "cell_type": "markdown",
      "id": "097cf3f7",
      "metadata": {
        "id": "097cf3f7"
      },
      "source": [
        "**Percentile**"
      ]
    },
    {
      "cell_type": "markdown",
      "id": "78ebeddc",
      "metadata": {
        "id": "78ebeddc"
      },
      "source": [
        "It is a way to represent position of a value in data set. To calculate it,  values should always be in ascending order."
      ]
    },
    {
      "cell_type": "markdown",
      "id": "b7878b6f",
      "metadata": {
        "id": "b7878b6f"
      },
      "source": [
        "12  \n",
        "\n",
        "24\n",
        "\n",
        "41   \n",
        "\n",
        "51  \n",
        "\n",
        "67  \n",
        "\n",
        "67   \n",
        "\n",
        "85   \n",
        "\n",
        "99"
      ]
    },
    {
      "cell_type": "markdown",
      "id": "f0eb7bc2",
      "metadata": {
        "id": "f0eb7bc2"
      },
      "source": [
        "The median 59 has four values less than itself out of eight. 59 is the 50th percentile because 50% of data are less than 59."
      ]
    },
    {
      "cell_type": "markdown",
      "id": "3d3bf1a0",
      "metadata": {
        "id": "3d3bf1a0"
      },
      "source": [
        "**Quartiles**"
      ]
    },
    {
      "cell_type": "markdown",
      "id": "289e8eac",
      "metadata": {
        "id": "289e8eac"
      },
      "source": [
        "Quartiles are values that divide your data into quarters. Sorted in ascending order."
      ]
    },
    {
      "cell_type": "markdown",
      "id": "9977340a",
      "metadata": {
        "id": "9977340a"
      },
      "source": [
        "![descriptive_stats_quartiles.jpg](https://github.com/4GeeksAcademy/machine-learning-content/blob/master/assets/descriptive_stats_quartiles.jpg?raw=1)"
      ]
    },
    {
      "cell_type": "markdown",
      "id": "bbb3d005",
      "metadata": {
        "id": "bbb3d005"
      },
      "source": [
        "12\n",
        "\n",
        "24\n",
        "\n",
        "41\n",
        "\n",
        "51\n",
        "\n",
        "67\n",
        "\n",
        "67\n",
        "\n",
        "85\n",
        "\n",
        "99\n",
        "\n",
        "115"
      ]
    },
    {
      "cell_type": "markdown",
      "id": "3c159f39",
      "metadata": {
        "id": "3c159f39"
      },
      "source": [
        "Q2 = 67 is 50th percentile of data and is also the median.\n",
        "\n",
        "Q1 = 41 is the 25th percentile of data.\n",
        "\n",
        "Q3 = 85 is 75th percentile of data\n",
        "\n",
        "IQR = interquantile range $= Q3 - Q1 = 85 - 41 = 44$\n",
        "                "
      ]
    },
    {
      "cell_type": "markdown",
      "id": "378e9a6a",
      "metadata": {
        "id": "378e9a6a"
      },
      "source": [
        "### Skewness"
      ]
    },
    {
      "cell_type": "markdown",
      "id": "a60c661e",
      "metadata": {
        "id": "a60c661e"
      },
      "source": [
        "The 3rd central moment is the skewness. A measure that describes the contrast of one tail versus the other tail. For example, if there are more high values in your distribution than low values then your distribution is 'skewed' towards the high values."
      ]
    },
    {
      "cell_type": "markdown",
      "id": "6571266b",
      "metadata": {
        "id": "6571266b"
      },
      "source": [
        "![descriptive_stats_skewness.jpg](https://github.com/4GeeksAcademy/machine-learning-content/blob/master/assets/descriptive_stats_skewness.jpg?raw=1)"
      ]
    },
    {
      "cell_type": "markdown",
      "id": "5fb9f17f",
      "metadata": {
        "id": "5fb9f17f"
      },
      "source": [
        "To calculate skewness:\n",
        "\n",
        "1. Pearson First Coefficient of Skewness (Mode Skewness) "
      ]
    },
    {
      "cell_type": "markdown",
      "id": "3e78b47d",
      "metadata": {
        "id": "3e78b47d"
      },
      "source": [
        "![descriptive_stats_pearson_first.jpg](https://github.com/4GeeksAcademy/machine-learning-content/blob/master/assets/descriptive_stats_pearson_first.jpg?raw=1)"
      ]
    },
    {
      "cell_type": "markdown",
      "id": "2c482351",
      "metadata": {
        "id": "2c482351"
      },
      "source": [
        "2. Pearson Second Coefficient of Skewness (Median Skewness)"
      ]
    },
    {
      "cell_type": "markdown",
      "id": "dbcc0e7a",
      "metadata": {
        "id": "dbcc0e7a"
      },
      "source": [
        "![descriptive_stats_pearson_second.jpg](https://github.com/4GeeksAcademy/machine-learning-content/blob/master/assets/descriptive_stats_pearson_second.jpg?raw=1)"
      ]
    },
    {
      "cell_type": "markdown",
      "id": "31af9568",
      "metadata": {
        "id": "31af9568"
      },
      "source": [
        "Direction of skewness is given by sign. 0 means no skewness. Negative means negative skewed.\n",
        "The coefficient compares the sample distribution with a normal distribution."
      ]
    },
    {
      "cell_type": "markdown",
      "id": "25593490",
      "metadata": {
        "id": "25593490"
      },
      "source": [
        "### Correlation"
      ]
    },
    {
      "cell_type": "markdown",
      "id": "d6dc7e09",
      "metadata": {
        "id": "d6dc7e09"
      },
      "source": [
        "Statistical technique that can show whether and how strongly pairs of variables are correlated.\n",
        "\n",
        "Correlation coefficient (r) ranges from -1 to +1.\n",
        "\n",
        "The closer to +1 or -1, the more closely the two variables are correlated.\n",
        "\n",
        "If r is close to 0, there is no relationship.\n",
        "\n",
        "If r is positive, it means that as one variable gets larger, the other gets larger.\n",
        "\n",
        "If r is negative, it means that as one variable gets larger , the other gets smaller."
      ]
    },
    {
      "cell_type": "markdown",
      "id": "4b782f99",
      "metadata": {
        "id": "4b782f99"
      },
      "source": [
        "### Kurtosis"
      ]
    },
    {
      "cell_type": "markdown",
      "id": "32574e89",
      "metadata": {
        "id": "32574e89"
      },
      "source": [
        "The 4th central moment is Kurtosis. It is about the existance of outliers.It is a measure of whether the data are heavy-tailed (profusion of outliers) or light-tailed (lack of outliers) relative to a normal distribution. It is about how fat the tails in the distribution are."
      ]
    },
    {
      "cell_type": "markdown",
      "id": "4c4fd9d2",
      "metadata": {
        "id": "4c4fd9d2"
      },
      "source": [
        "![descriptive_stats_kurtosis.jpg](https://github.com/4GeeksAcademy/machine-learning-content/blob/master/assets/descriptive_stats_kurtosis.jpg?raw=1)"
      ]
    },
    {
      "cell_type": "markdown",
      "id": "8300df9f",
      "metadata": {
        "id": "8300df9f"
      },
      "source": [
        "Leptokurtic means tails are thick and heavy\n",
        "Platykurtic means tails are thinner."
      ]
    },
    {
      "cell_type": "markdown",
      "id": "9f3ca278",
      "metadata": {
        "id": "9f3ca278"
      },
      "source": [
        "The main difference between skewness and kurtosis is:\n",
        "    \n",
        "    Skewness refers to a degree of symmetry.\n",
        "    Kurtosis refers to a degree of presence of outliers.\n",
        "\n",
        "The higher the moment, the harder it is to estimate with samples. Larger samples are required in order to obtain good estimates."
      ]
    },
    {
      "cell_type": "markdown",
      "id": "fb5b6ad2",
      "metadata": {
        "id": "fb5b6ad2"
      },
      "source": [
        "References:\n",
        "\n",
        "https://towardsdatascience.com/understanding-descriptive-statistics-c9c2b0641291\n"
      ]
    }
  ],
  "metadata": {
    "kernelspec": {
      "display_name": "Python 3 (ipykernel)",
      "language": "python",
      "name": "python3"
    },
    "language_info": {
      "codemirror_mode": {
        "name": "ipython",
        "version": 3
      },
      "file_extension": ".py",
      "mimetype": "text/x-python",
      "name": "python",
      "nbconvert_exporter": "python",
      "pygments_lexer": "ipython3",
      "version": "3.10.1"
    },
    "colab": {
      "name": "descriptive-statistics.ipynb",
      "provenance": [],
      "include_colab_link": true
    }
  },
  "nbformat": 4,
  "nbformat_minor": 5
}