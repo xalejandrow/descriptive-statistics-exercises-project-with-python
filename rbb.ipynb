{
  "cells": [
    {
      "cell_type": "markdown",
      "metadata": {
        "id": "view-in-github",
        "colab_type": "text"
      },
      "source": [
        "<a href=\"https://colab.research.google.com/github/xalejandrow/descriptive-statistics-exercises-project-with-python/blob/main/rbb.ipynb\" target=\"_parent\"><img src=\"https://colab.research.google.com/assets/colab-badge.svg\" alt=\"Open In Colab\"/></a>"
      ]
    },
    {
      "cell_type": "markdown",
      "source": [
        "# Percentiles\n",
        "\n",
        "In statistics, a k-th percentile (percentile score or centile) is a score below which a given percentage k of scores in its frequency distribution falls (exclusive definition) or a score at or below which a given percentage falls (inclusive definition). For example, the 50th percentile (the median) is the score below which (exclusive) or at or below which (inclusive) 50% of the scores in the distribution may be found. Percentiles are expressed in the same unit of measurement as the input scores; for example, if the scores refer to human weight, the corresponding percentiles will be expressed in kilograms or pounds.\n",
        "\n",
        "The 25th percentile is also known as the first quartile (Q1), the 50th percentile as the median or second quartile (Q2), and the 75th percentile as the third quartile (Q3).\n",
        "\n",
        "In numpy we call the function np.percentile"
      ],
      "metadata": {
        "id": "PYN_hSPSqcjr"
      },
      "id": "PYN_hSPSqcjr"
    },
    {
      "cell_type": "code",
      "source": [
        "import numpy as np\n",
        "my_array = np.array([0,1,2,3,4,5,6,7,8,9,10])\n",
        "\n",
        "np.percentile(my_array, 50) # Or the median or Q2"
      ],
      "metadata": {
        "colab": {
          "base_uri": "https://localhost:8080/"
        },
        "id": "QQGL9qq0rWMs",
        "outputId": "a5623d56-f5ee-45ca-8568-68913a30cdd7"
      },
      "id": "QQGL9qq0rWMs",
      "execution_count": 1,
      "outputs": [
        {
          "output_type": "execute_result",
          "data": {
            "text/plain": [
              "5.0"
            ]
          },
          "metadata": {},
          "execution_count": 1
        }
      ]
    },
    {
      "cell_type": "code",
      "source": [
        "np.percentile(my_array, 25)"
      ],
      "metadata": {
        "colab": {
          "base_uri": "https://localhost:8080/"
        },
        "id": "6xRhIR6Sru9j",
        "outputId": "53d50e6d-2ae9-49c1-810a-1b7fdbaf7838"
      },
      "id": "6xRhIR6Sru9j",
      "execution_count": 2,
      "outputs": [
        {
          "output_type": "execute_result",
          "data": {
            "text/plain": [
              "2.5"
            ]
          },
          "metadata": {},
          "execution_count": 2
        }
      ]
    },
    {
      "cell_type": "code",
      "source": [
        "my_matrix = np.array([[3,4,5],\n",
        "                      [6,7,8]])\n",
        "np.percentile(my_matrix, 50)"
      ],
      "metadata": {
        "colab": {
          "base_uri": "https://localhost:8080/"
        },
        "id": "xDZEoamMsHJO",
        "outputId": "2a6ee68c-11f3-4e00-c194-af0b0e7b9384"
      },
      "id": "xDZEoamMsHJO",
      "execution_count": 4,
      "outputs": [
        {
          "output_type": "execute_result",
          "data": {
            "text/plain": [
              "5.5"
            ]
          },
          "metadata": {},
          "execution_count": 4
        }
      ]
    },
    {
      "cell_type": "markdown",
      "id": "obvious-toyota",
      "metadata": {
        "id": "obvious-toyota"
      },
      "source": [
        "# Random Variables"
      ]
    },
    {
      "cell_type": "markdown",
      "id": "experimental-aviation",
      "metadata": {
        "id": "experimental-aviation"
      },
      "source": [
        "We are going to start by defining what exactly is a Random Variable. The first important aspect to consider is that it is not a traditional variable. A random variable can take many different values with different probabilities, so we cannot solve for them in the traditional way, for instance in the equation $y = x + 5$. It makes more sense to talk about the probability of a Random Variable being less than or greater than some value. In short, a Random Variable maps outcomes of random processes to numbers.\n",
        "\n",
        "The simplest and most traditional example for us to think about it is a coin flip.\n",
        "\n",
        "$$ X=   \\left\\{\n",
        "\\begin{array}{ll}\n",
        "      1 \\quad \\text{if \"heads\"} \\\\\n",
        "      0 \\quad \\text{if \"tails\"} \\\\\n",
        "\\end{array} \n",
        "\\right.  $$\n",
        "\n",
        "The possible outcomes are \"heads\" and \"tails\", which we have quantified to 1 and 0, respectively. "
      ]
    },
    {
      "cell_type": "markdown",
      "id": "coated-length",
      "metadata": {
        "id": "coated-length"
      },
      "source": [
        "# Bernoulli Random Variable"
      ]
    },
    {
      "cell_type": "markdown",
      "id": "decimal-indiana",
      "metadata": {
        "id": "decimal-indiana"
      },
      "source": [
        "Random Variables can be either discrete or continuous. We will start by focusing on the discrete Random Variables. By definition, discrete variables can only take distinct values, such as in the example above of the flip of a coin. For these variables you can count the number of different values it can take on.\n",
        "\n",
        "Our Random Variable $X$ defined above is actually a Bernoulli Random Variable. It can take the value 1 with probability $p$, in the case of a fair coin $p$ is equal to 0.5 or 50% and the value 0 with probability $q = 1-p$. Its Probability Mass Function can then be defined as:\n",
        "\n",
        "$$P(X=k) = \\left\\{\n",
        "\\begin{array}{ll}\n",
        "      p \\quad &\\text{if k=1} \\\\\n",
        "      q=1-p \\quad &\\text{if k=0} \\\\\n",
        "\\end{array} \\right.$$\n"
      ]
    },
    {
      "cell_type": "code",
      "source": [
        "p = 0.7\n",
        "q = 0.3 #(1-p)"
      ],
      "metadata": {
        "id": "Oyw0sunO19UZ"
      },
      "id": "Oyw0sunO19UZ",
      "execution_count": 6,
      "outputs": []
    },
    {
      "cell_type": "code",
      "source": [
        "mean = p\n",
        "variance = p*q"
      ],
      "metadata": {
        "id": "JWOjAJQ-2lGL"
      },
      "id": "JWOjAJQ-2lGL",
      "execution_count": 11,
      "outputs": []
    },
    {
      "cell_type": "code",
      "execution_count": 12,
      "id": "thrown-unemployment",
      "metadata": {
        "id": "thrown-unemployment"
      },
      "outputs": [],
      "source": [
        "import matplotlib.pyplot as plt\n",
        "import numpy as np\n",
        "from scipy.stats import bernoulli, binom\n",
        "import seaborn as sns\n",
        "from IPython.display import Image"
      ]
    },
    {
      "cell_type": "markdown",
      "id": "similar-smell",
      "metadata": {
        "id": "similar-smell"
      },
      "source": [
        "Let's start by defining a Bernoulli Random Variable $X$ with success probability of $p=0.3$."
      ]
    },
    {
      "cell_type": "code",
      "execution_count": 7,
      "id": "furnished-inspiration",
      "metadata": {
        "id": "furnished-inspiration"
      },
      "outputs": [],
      "source": [
        "p = 0.3\n",
        "X = bernoulli(p)"
      ]
    },
    {
      "cell_type": "markdown",
      "id": "controversial-finding",
      "metadata": {
        "id": "controversial-finding"
      },
      "source": [
        "We can print the values for its Probability Mass Function on $0$ and $1$."
      ]
    },
    {
      "cell_type": "code",
      "execution_count": 8,
      "id": "lasting-harvey",
      "metadata": {
        "colab": {
          "base_uri": "https://localhost:8080/"
        },
        "id": "lasting-harvey",
        "outputId": "664ccbd0-a40c-4ff2-8c38-6021ef5d230f"
      },
      "outputs": [
        {
          "output_type": "stream",
          "name": "stdout",
          "text": [
            "0.3\n",
            "0.7\n"
          ]
        }
      ],
      "source": [
        "print(np.round(X.pmf(1),2))\n",
        "print(np.round(X.pmf(0), 2))"
      ]
    },
    {
      "cell_type": "markdown",
      "id": "beginning-minority",
      "metadata": {
        "id": "beginning-minority"
      },
      "source": [
        "To help up visualize, let's arrive at the same values empirically, by drawing $100,000$ samples from our variable. "
      ]
    },
    {
      "cell_type": "code",
      "execution_count": 14,
      "id": "stock-longer",
      "metadata": {
        "id": "stock-longer"
      },
      "outputs": [],
      "source": [
        "X_samples = X.rvs(100000)"
      ]
    },
    {
      "cell_type": "code",
      "execution_count": 15,
      "id": "textile-interface",
      "metadata": {
        "colab": {
          "base_uri": "https://localhost:8080/",
          "height": 265
        },
        "id": "textile-interface",
        "outputId": "e4394b99-dd70-46e0-eda5-8e60ead3b4ba"
      },
      "outputs": [
        {
          "output_type": "display_data",
          "data": {
            "text/plain": [
              "<Figure size 432x288 with 1 Axes>"
            ],
            "image/png": "[encoded data removed]"
          },
          "metadata": {
            "needs_background": "light"
          }
        }
      ],
      "source": [
        "sns.histplot(X_samples, stat=\"density\", discrete=True, shrink=0.2);"
      ]
    },
    {
      "cell_type": "markdown",
      "id": "binary-earthquake",
      "metadata": {
        "id": "binary-earthquake"
      },
      "source": [
        "It looks as expected, we have a $0.3$ probability of success and a $0.7$ probability of failure."
      ]
    },
    {
      "cell_type": "markdown",
      "id": "cathedral-thickness",
      "metadata": {
        "id": "cathedral-thickness"
      },
      "source": [
        "Let's define the mean and variance of the distribution.\n",
        "\n",
        "$$\\begin{align}\n",
        "\\mu &= (1-p)\\cdot0+p\\cdot1=p \\\\\n",
        "\\sigma^2 &= (1-p) \\cdot (0-p)^2 + p \\cdot (1-p)^2 = \\\\\n",
        "&= (1-p) \\cdot p^2 + p(1-2p+p^2) = \\\\\n",
        "&= p^2 - p^3 + p -2p^2+p^3 = \\\\\n",
        "&= p - p^2 = \\\\\n",
        "&= p(1-p)\n",
        "\\end{align}$$"
      ]
    },
    {
      "cell_type": "markdown",
      "id": "exclusive-saying",
      "metadata": {
        "id": "exclusive-saying"
      },
      "source": [
        "We can compare our empirically calculated mean with the theoretical mean that we just derived. They are indeed very close and they would become closer as the sample size increases."
      ]
    },
    {
      "cell_type": "code",
      "execution_count": 16,
      "id": "accompanied-default",
      "metadata": {
        "colab": {
          "base_uri": "https://localhost:8080/"
        },
        "id": "accompanied-default",
        "outputId": "7e17ef54-973e-45c3-bcc3-94c6286440ba"
      },
      "outputs": [
        {
          "output_type": "stream",
          "name": "stdout",
          "text": [
            "Empirically calculated mean: 0.29847\n",
            "Theoretical mean: 0.3\n",
            "Empirically calculated standard deviation: 0.45758677767173295\n",
            "Theoretical standard deviation: 0.458257569495584\n"
          ]
        }
      ],
      "source": [
        "print('Empirically calculated mean: {}'.format(X_samples.mean()))\n",
        "print('Theoretical mean: {}'.format(p))\n",
        "\n",
        "print('Empirically calculated standard deviation: {}'.format(X_samples.std()))\n",
        "print('Theoretical standard deviation: {}'.format((p*(1-p))**(1/2)))"
      ]
    },
    {
      "cell_type": "markdown",
      "id": "devoted-formation",
      "metadata": {
        "id": "devoted-formation"
      },
      "source": [
        "# Binomial Random Variable"
      ]
    },
    {
      "cell_type": "markdown",
      "id": "reverse-brunswick",
      "metadata": {
        "id": "reverse-brunswick"
      },
      "source": [
        "We can look at a Binomial Random Variable (RV) as a set of Bernoulli experiments or trials. This way our understanding of how the properties of the distribution are derived becomes significantly simpler.\n",
        "\n",
        "Before diving into definitions, we need to start with the main conditions that need to be fulfilled to define our RV as Binomial:\n",
        "* The trials are independent\n",
        "* Each trial can be classified as either success or failure\n",
        "* Fixed number of trials\n",
        "* The probability of success on each trial is constant\n",
        "\n",
        "Let's define the RV $Z$ as the number of success afer $n$ trials where P(success) for each trial is p.\n",
        "\n",
        "Let's also define $Y$, a Bernoulli RV with $P(Y=1)=p$ and $P(Y=0)=1-p$.\n",
        "\n",
        "Y represents each independent trial that composes Z. We already derived both the variance and expected value of Y above.\n",
        "\n",
        "$$\\begin{aligned} \n",
        "\\mathbb{E}(Y)&=p \\\\\n",
        "\\text{Var}(Y)&=p(1-p)\n",
        "\\end{aligned}$$\n",
        "\n",
        "Using the following property $\\mathbb{E}(X+Y)=\\mathbb{E}(X)+\\mathbb{E}(Y)$, we can derive the expected value of our Binomial RV $Z$:\n",
        "\n",
        "$$\\begin{aligned}\n",
        "X &= Y + Y + ... + Y \\\\\n",
        "\\mathbb{E}(Z) &= \\mathbb{E}(Y + Y + ... + Y) \\\\\n",
        "\\mathbb{E}(Z) &= \\mathbb{E}(Y) + \\mathbb{E}(Y) + ... + \\mathbb{E}(Y) \\\\\n",
        "\\mathbb{E}(Z) &= n\\mathbb{E}(Y) \\\\\n",
        "\\mathbb{E}(Z) &= np\n",
        "\\end{aligned}\n",
        "$$\n",
        "\n",
        "Recall that we have $n$ independent trials or $n$ RV $Y$ being summed.\n",
        "\n",
        "When deriving the $\\text{VAR}(Y)$, the process is the same, because $\\text{VAR}(X+Y)=\\text{VAR}(X)+\\text{VAR}(Y)$ is also true. Then we have:\n",
        "\n",
        "$$\\begin{aligned}\n",
        "\\text{VAR}(Z) &= \\text{VAR}(Y + Y + ... + Y) \\\\\n",
        "\\text{VAR}(Z) &= \\text{VAR}(Y) + \\text{VAR}(Y) + ... + \\text{VAR}(Y) \\\\\n",
        "\\text{VAR}(Z) &= n\\text{VAR}(Y) \\\\\n",
        "\\text{VAR}(Z) &= np(1-p) \\\\\n",
        "\\end{aligned}\n",
        "$$"
      ]
    },
    {
      "cell_type": "markdown",
      "id": "raised-antigua",
      "metadata": {
        "id": "raised-antigua"
      },
      "source": [
        "Let's now test our theoretical understanding with an experiment."
      ]
    },
    {
      "cell_type": "code",
      "execution_count": 17,
      "id": "distinguished-nightmare",
      "metadata": {
        "id": "distinguished-nightmare"
      },
      "outputs": [],
      "source": [
        "n=6\n",
        "p = 0.3\n",
        "Y = bernoulli(p)"
      ]
    },
    {
      "cell_type": "markdown",
      "id": "innocent-executive",
      "metadata": {
        "id": "innocent-executive"
      },
      "source": [
        "We defined our $Y$ variable. We can construct our $X$ variable from this $Y$ variable as defined above, these are the Bernoulli independent trials. Let's assume that we have 6 independent trials."
      ]
    },
    {
      "cell_type": "code",
      "execution_count": 18,
      "id": "magnetic-subject",
      "metadata": {
        "colab": {
          "base_uri": "https://localhost:8080/"
        },
        "id": "magnetic-subject",
        "outputId": "48ae4e11-a51e-4e9c-f5ce-c543d8f194b9"
      },
      "outputs": [
        {
          "output_type": "execute_result",
          "data": {
            "text/plain": [
              "[array([1, 0, 1, ..., 1, 0, 0]),\n",
              " array([0, 1, 0, ..., 0, 0, 0]),\n",
              " array([0, 0, 0, ..., 0, 0, 1]),\n",
              " array([0, 0, 1, ..., 0, 0, 0]),\n",
              " array([0, 0, 1, ..., 0, 0, 0]),\n",
              " array([0, 1, 0, ..., 1, 1, 0])]"
            ]
          },
          "metadata": {},
          "execution_count": 18
        }
      ],
      "source": [
        "Y_samples = [Y.rvs(1000000) for i in range(6)]\n",
        "Y_samples"
      ]
    },
    {
      "cell_type": "code",
      "execution_count": 19,
      "id": "technological-auckland",
      "metadata": {
        "id": "technological-auckland"
      },
      "outputs": [],
      "source": [
        "Z_samples = sum(Y_samples)"
      ]
    },
    {
      "cell_type": "code",
      "execution_count": 20,
      "id": "stainless-child",
      "metadata": {
        "colab": {
          "base_uri": "https://localhost:8080/"
        },
        "id": "stainless-child",
        "outputId": "0aa96175-0182-4104-ca8c-c2c5fec5fefc"
      },
      "outputs": [
        {
          "output_type": "stream",
          "name": "stdout",
          "text": [
            "Empirically calculated expected value: 1.798858\n",
            "Theoretical expected value: 1.7999999999999998\n"
          ]
        }
      ],
      "source": [
        "print('Empirically calculated expected value: {}'.format(Z_samples.mean()))\n",
        "print('Theoretical expected value: {}'.format(n*p))"
      ]
    },
    {
      "cell_type": "code",
      "execution_count": 21,
      "id": "ceramic-costume",
      "metadata": {
        "colab": {
          "base_uri": "https://localhost:8080/"
        },
        "id": "ceramic-costume",
        "outputId": "341c4650-b5c3-40fa-eb39-b7e5eb728270"
      },
      "outputs": [
        {
          "output_type": "stream",
          "name": "stdout",
          "text": [
            "Empirically calculated variance: 1.2611838958359995\n",
            "Theoretical variance: 1.2599999999999998\n"
          ]
        }
      ],
      "source": [
        "print('Empirically calculated variance: {}'.format(Z_samples.var()))\n",
        "print('Theoretical variance: {}'.format(n*p*(1-p)))"
      ]
    },
    {
      "cell_type": "markdown",
      "id": "resistant-semiconductor",
      "metadata": {
        "id": "resistant-semiconductor"
      },
      "source": [
        "We feel better about our theoretical derivations as our experiment shows that we are indeed correct.\n",
        "\n",
        "We can also plot our Binomial distribution. Remember that it is a discrete distribution."
      ]
    },
    {
      "cell_type": "code",
      "execution_count": null,
      "id": "sized-possibility",
      "metadata": {
        "colab": {
          "base_uri": "https://localhost:8080/",
          "height": 265
        },
        "id": "sized-possibility",
        "outputId": "3b5bb14e-a798-405b-8ee1-a5e37253e16b"
      },
      "outputs": [
        {
          "output_type": "display_data",
          "data": {
            "text/plain": [
              "<Figure size 432x288 with 1 Axes>"
            ],
            "image/png": "[encoded data removed]"
          },
          "metadata": {
            "needs_background": "light"
          }
        }
      ],
      "source": [
        "sns.histplot(Z_samples, stat=\"density\", discrete=True, shrink=0.3);"
      ]
    },
    {
      "cell_type": "markdown",
      "id": "advised-transformation",
      "metadata": {
        "id": "advised-transformation"
      },
      "source": [
        "# Binomial PMF and CDF"
      ]
    },
    {
      "cell_type": "markdown",
      "id": "designed-bulgarian",
      "metadata": {
        "id": "designed-bulgarian"
      },
      "source": [
        "The Binomial Probability Mass Function (PMF) can be written in the following way:\n",
        "\n",
        "$$P(Z=k) = {{n}\\choose{k}} p^k (1-p)^{(n-k)}$$\n",
        "\n",
        "It seems a bit daunting at first, let's try to break it down into smaller interpretable pieces.\n",
        "\n",
        "${{n}\\choose{k}}$ is just the binomial coefficient or the number of different ways we can choose $k$ items from $n$ possible ones when the order does not matter, i.e. the set ABC is the same as CBA.\n",
        "\n",
        "$${{n}\\choose{k}} = \\frac{n!}{k!(n-k)!}$$\n",
        "\n",
        "Recall that  $\\frac{n!}{(n-k)!}$ is the number of permutations or the number of different ways we can choose $k$ items from $n$ possible ones when the order matters, i.e. ABC and CBA counts as two different results. $k!$ is just the number of ways to arrange $k$ items. For example, in the case of 3 items and 3 positions we have the following possibilities:\n",
        "\n",
        "$$\\begin{aligned}\n",
        "ABC \\\\\n",
        "ACB \\\\\n",
        "BAC \\\\\n",
        "BCA \\\\\n",
        "CAB \\\\\n",
        "CBA\\end{aligned}$$\n",
        "\n",
        "Recall that $3!=3 \\cdot 2 \\cdot 1= 6$.\n",
        "\n",
        "Let's start building small functions to handle our different components, starting with a function to compute the factorial of an input argument."
      ]
    },
    {
      "cell_type": "code",
      "execution_count": 22,
      "id": "front-cartoon",
      "metadata": {
        "colab": {
          "base_uri": "https://localhost:8080/"
        },
        "id": "front-cartoon",
        "outputId": "57d2a12c-16e2-4e1d-d968-346619842f22"
      },
      "outputs": [
        {
          "output_type": "execute_result",
          "data": {
            "text/plain": [
              "6"
            ]
          },
          "metadata": {},
          "execution_count": 22
        }
      ],
      "source": [
        "def fact(n):\n",
        "    x = 1\n",
        "    for i in range(1, n+1):\n",
        "        x *= i\n",
        "    return x\n",
        "\n",
        "fact(3)"
      ]
    },
    {
      "cell_type": "markdown",
      "id": "technological-piece",
      "metadata": {
        "id": "technological-piece"
      },
      "source": [
        "Now, we can use our function `fact()` inside of another function that computes the binomial coefficient."
      ]
    },
    {
      "cell_type": "code",
      "execution_count": 23,
      "id": "later-dressing",
      "metadata": {
        "colab": {
          "base_uri": "https://localhost:8080/"
        },
        "id": "later-dressing",
        "outputId": "f92e19e2-ba9c-4c49-a273-64f10720d493"
      },
      "outputs": [
        {
          "output_type": "execute_result",
          "data": {
            "text/plain": [
              "20.0"
            ]
          },
          "metadata": {},
          "execution_count": 23
        }
      ],
      "source": [
        "def comb(n, k):\n",
        "    x = 1\n",
        "    return fact(n)/(fact(k)*fact(n-k))\n",
        "\n",
        "comb(6, 3)"
      ]
    },
    {
      "cell_type": "markdown",
      "id": "residential-pleasure",
      "metadata": {
        "id": "residential-pleasure"
      },
      "source": [
        "And finally, putting everything together:"
      ]
    },
    {
      "cell_type": "code",
      "execution_count": 24,
      "id": "roman-kinase",
      "metadata": {
        "id": "roman-kinase"
      },
      "outputs": [],
      "source": [
        "def binompmf(prob, n, k):\n",
        "    return comb(n,k)*prob**k*(1-prob)**(n-k)"
      ]
    },
    {
      "cell_type": "markdown",
      "id": "native-passage",
      "metadata": {
        "id": "native-passage"
      },
      "source": [
        "A useful function that you often find in statistical packages together with the PMF of a distribution is the Cumulative Distribution Function (CDF). It is nothing more than the probability that our RV takes values up to an $z$:\n",
        "\n",
        "$$P(Z\\leq z)$$"
      ]
    },
    {
      "cell_type": "code",
      "execution_count": 25,
      "id": "stopped-technology",
      "metadata": {
        "id": "stopped-technology"
      },
      "outputs": [],
      "source": [
        "def binomcdf(prob, n, x):\n",
        "    result = 0\n",
        "    for x_ in range(0, x+1):\n",
        "        result += binompmf(prob, n, x_)\n",
        "    return result"
      ]
    },
    {
      "cell_type": "markdown",
      "id": "complicated-machinery",
      "metadata": {
        "id": "complicated-machinery"
      },
      "source": [
        "Let's try it out. "
      ]
    },
    {
      "cell_type": "markdown",
      "id": "respiratory-nutrition",
      "metadata": {
        "id": "respiratory-nutrition"
      },
      "source": [
        "\n",
        "We want to assess the probability distribution that models Cristiano Ronaldo's ability to score free-kicks. We will be using the table below, which shows Ronaldo's free-kick record in La Liga and in the Champions League:"
      ]
    },
    {
      "cell_type": "code",
      "source": [
        "import pandas as pd\n",
        "my_df = pd.DataFrame({'Competition':['La Liga','Champions','Total'], \n",
        "                      'Free_Kick_Goals':[20,10,30], \n",
        "                      'Free_Kicks_Taken':[301,106,407], \n",
        "                      'Accuracy':[0.066, 0.094, 0.073]})"
      ],
      "metadata": {
        "id": "CyHCrN7buMLn"
      },
      "id": "CyHCrN7buMLn",
      "execution_count": 26,
      "outputs": []
    },
    {
      "cell_type": "code",
      "source": [
        "my_df"
      ],
      "metadata": {
        "colab": {
          "base_uri": "https://localhost:8080/",
          "height": 143
        },
        "id": "x0y9okBRuxly",
        "outputId": "2a209b6d-4e5f-46ad-8d1d-10a272400d69"
      },
      "id": "x0y9okBRuxly",
      "execution_count": 27,
      "outputs": [
        {
          "output_type": "execute_result",
          "data": {
            "text/plain": [
              "  Competition  Free_Kick_Goals  Free_Kicks_Taken  Accuracy\n",
              "0     La Liga               20               301     0.066\n",
              "1   Champions               10               106     0.094\n",
              "2       Total               30               407     0.073"
            ],
            "text/html": [
              "\n",
              "  <div id=\"df-6b5c1d43-16d6-4b6d-880b-c62860b0bfaf\">\n",
              "    <div class=\"colab-df-container\">\n",
              "      <div>\n",
              "<style scoped>\n",
              "    .dataframe tbody tr th:only-of-type {\n",
              "        vertical-align: middle;\n",
              "    }\n",
              "\n",
              "    .dataframe tbody tr th {\n",
              "        vertical-align: top;\n",
              "    }\n",
              "\n",
              "    .dataframe thead th {\n",
              "        text-align: right;\n",
              "    }\n",
              "</style>\n",
              "<table border=\"1\" class=\"dataframe\">\n",
              "  <thead>\n",
              "    <tr style=\"text-align: right;\">\n",
              "      <th></th>\n",
              "      <th>Competition</th>\n",
              "      <th>Free_Kick_Goals</th>\n",
              "      <th>Free_Kicks_Taken</th>\n",
              "      <th>Accuracy</th>\n",
              "    </tr>\n",
              "  </thead>\n",
              "  <tbody>\n",
              "    <tr>\n",
              "      <th>0</th>\n",
              "      <td>La Liga</td>\n",
              "      <td>20</td>\n",
              "      <td>301</td>\n",
              "      <td>0.066</td>\n",
              "    </tr>\n",
              "    <tr>\n",
              "      <th>1</th>\n",
              "      <td>Champions</td>\n",
              "      <td>10</td>\n",
              "      <td>106</td>\n",
              "      <td>0.094</td>\n",
              "    </tr>\n",
              "    <tr>\n",
              "      <th>2</th>\n",
              "      <td>Total</td>\n",
              "      <td>30</td>\n",
              "      <td>407</td>\n",
              "      <td>0.073</td>\n",
              "    </tr>\n",
              "  </tbody>\n",
              "</table>\n",
              "</div>\n",
              "      <button class=\"colab-df-convert\" onclick=\"convertToInteractive('df-6b5c1d43-16d6-4b6d-880b-c62860b0bfaf')\"\n",
              "              title=\"Convert this dataframe to an interactive table.\"\n",
              "              style=\"display:none;\">\n",
              "        \n",
              "  <svg xmlns=\"http://www.w3.org/2000/svg\" height=\"24px\"viewBox=\"0 0 24 24\"\n",
              "       width=\"24px\">\n",
              "    <path d=\"M0 0h24v24H0V0z\" fill=\"none\"/>\n",
              "    <path d=\"M18.56 5.44l.94 2.06.94-2.06 2.06-.94-2.06-.94-.94-2.06-.94 2.06-2.06.94zm-11 1L8.5 8.5l.94-2.06 2.06-.94-2.06-.94L8.5 2.5l-.94 2.06-2.06.94zm10 10l.94 2.06.94-2.06 2.06-.94-2.06-.94-.94-2.06-.94 2.06-2.06.94z\"/><path d=\"M17.41 7.96l-1.37-1.37c-.4-.4-.92-.59-1.43-.59-.52 0-1.04.2-1.43.59L10.3 9.45l-7.72 7.72c-.78.78-.78 2.05 0 2.83L4 21.41c.39.39.9.59 1.41.59.51 0 1.02-.2 1.41-.59l7.78-7.78 2.81-2.81c.8-.78.8-2.07 0-2.86zM5.41 20L4 18.59l7.72-7.72 1.47 1.35L5.41 20z\"/>\n",
              "  </svg>\n",
              "      </button>\n",
              "      \n",
              "  <style>\n",
              "    .colab-df-container {\n",
              "      display:flex;\n",
              "      flex-wrap:wrap;\n",
              "      gap: 12px;\n",
              "    }\n",
              "\n",
              "    .colab-df-convert {\n",
              "      background-color: #E8F0FE;\n",
              "      border: none;\n",
              "      border-radius: 50%;\n",
              "      cursor: pointer;\n",
              "      display: none;\n",
              "      fill: #1967D2;\n",
              "      height: 32px;\n",
              "      padding: 0 0 0 0;\n",
              "      width: 32px;\n",
              "    }\n",
              "\n",
              "    .colab-df-convert:hover {\n",
              "      background-color: #E2EBFA;\n",
              "      box-shadow: 0px 1px 2px rgba(60, 64, 67, 0.3), 0px 1px 3px 1px rgba(60, 64, 67, 0.15);\n",
              "      fill: #174EA6;\n",
              "    }\n",
              "\n",
              "    [theme=dark] .colab-df-convert {\n",
              "      background-color: #3B4455;\n",
              "      fill: #D2E3FC;\n",
              "    }\n",
              "\n",
              "    [theme=dark] .colab-df-convert:hover {\n",
              "      background-color: #434B5C;\n",
              "      box-shadow: 0px 1px 3px 1px rgba(0, 0, 0, 0.15);\n",
              "      filter: drop-shadow(0px 1px 2px rgba(0, 0, 0, 0.3));\n",
              "      fill: #FFFFFF;\n",
              "    }\n",
              "  </style>\n",
              "\n",
              "      <script>\n",
              "        const buttonEl =\n",
              "          document.querySelector('#df-6b5c1d43-16d6-4b6d-880b-c62860b0bfaf button.colab-df-convert');\n",
              "        buttonEl.style.display =\n",
              "          google.colab.kernel.accessAllowed ? 'block' : 'none';\n",
              "\n",
              "        async function convertToInteractive(key) {\n",
              "          const element = document.querySelector('#df-6b5c1d43-16d6-4b6d-880b-c62860b0bfaf');\n",
              "          const dataTable =\n",
              "            await google.colab.kernel.invokeFunction('convertToInteractive',\n",
              "                                                     [key], {});\n",
              "          if (!dataTable) return;\n",
              "\n",
              "          const docLinkHtml = 'Like what you see? Visit the ' +\n",
              "            '<a target=\"_blank\" href=https://colab.research.google.com/notebooks/data_table.ipynb>data table notebook</a>'\n",
              "            + ' to learn more about interactive tables.';\n",
              "          element.innerHTML = '';\n",
              "          dataTable['output_type'] = 'display_data';\n",
              "          await google.colab.output.renderOutput(dataTable, element);\n",
              "          const docLink = document.createElement('div');\n",
              "          docLink.innerHTML = docLinkHtml;\n",
              "          element.appendChild(docLink);\n",
              "        }\n",
              "      </script>\n",
              "    </div>\n",
              "  </div>\n",
              "  "
            ]
          },
          "metadata": {},
          "execution_count": 27
        }
      ]
    },
    {
      "cell_type": "markdown",
      "id": "useful-personality",
      "metadata": {
        "id": "useful-personality"
      },
      "source": [
        "Ronaldo has a  0.094 probability of successfully convert a free-kick in the Champions League. Based on that, what is Ronaldo's probability of scoring 1 out of 7 free-kicks in the Champions League?"
      ]
    },
    {
      "cell_type": "code",
      "execution_count": 34,
      "id": "annoying-marketing",
      "metadata": {
        "colab": {
          "base_uri": "https://localhost:8080/"
        },
        "id": "annoying-marketing",
        "outputId": "437bc444-071c-479d-aee5-f0e70f843ae7"
      },
      "outputs": [
        {
          "output_type": "execute_result",
          "data": {
            "text/plain": [
              "0.3639109131870316"
            ]
          },
          "metadata": {},
          "execution_count": 34
        }
      ],
      "source": [
        "#Probabilidad Mass Funcion (sobre el punto)\n",
        "binompmf(0.094, 7, 1)"
      ]
    },
    {
      "cell_type": "markdown",
      "id": "varying-equilibrium",
      "metadata": {
        "id": "varying-equilibrium"
      },
      "source": [
        "What is the probability of scoring less than 2?"
      ]
    },
    {
      "cell_type": "code",
      "execution_count": 33,
      "id": "frequent-bones",
      "metadata": {
        "colab": {
          "base_uri": "https://localhost:8080/"
        },
        "id": "frequent-bones",
        "outputId": "fd988a98-87f9-4e7d-b4d1-f3d26bbf100f"
      },
      "outputs": [
        {
          "output_type": "execute_result",
          "data": {
            "text/plain": [
              "0.8649797389430357"
            ]
          },
          "metadata": {},
          "execution_count": 33
        }
      ],
      "source": [
        "#Cumulative Distribution Function (sobre el acumulado)\n",
        "binomcdf(0.094, 7, 1)"
      ]
    },
    {
      "cell_type": "code",
      "source": [
        "binomcdf(0.094, 7, 0)"
      ],
      "metadata": {
        "colab": {
          "base_uri": "https://localhost:8080/"
        },
        "id": "k_EJ1Qrh7BgY",
        "outputId": "1fbe393d-fa3c-442d-da65-a0a729681ecb"
      },
      "id": "k_EJ1Qrh7BgY",
      "execution_count": 32,
      "outputs": [
        {
          "output_type": "execute_result",
          "data": {
            "text/plain": [
              "0.5010688257560041"
            ]
          },
          "metadata": {},
          "execution_count": 32
        }
      ]
    },
    {
      "cell_type": "markdown",
      "source": [
        "P(X<2) = P(x=0) o P(x=1)\n",
        "\n",
        "pmf=probability mass function\n",
        "\n",
        "pmf=P(X=x)\n",
        "\n",
        "cdf=cumulative distribution function\n",
        "\n",
        "cdf=P(X=<x)\n"
      ],
      "metadata": {
        "id": "vO1n1eiV61Sm"
      },
      "id": "vO1n1eiV61Sm"
    },
    {
      "cell_type": "code",
      "source": [
        "my_list = np.array([1,2,3,4,5,7])"
      ],
      "metadata": {
        "id": "S5NYo-avA35N"
      },
      "id": "S5NYo-avA35N",
      "execution_count": 35,
      "outputs": []
    },
    {
      "cell_type": "code",
      "source": [
        "my_list.mean()"
      ],
      "metadata": {
        "colab": {
          "base_uri": "https://localhost:8080/"
        },
        "id": "cCXd_jEeA-8z",
        "outputId": "414bd204-703f-4041-9393-158dd6b3f89a"
      },
      "id": "cCXd_jEeA-8z",
      "execution_count": 36,
      "outputs": [
        {
          "output_type": "execute_result",
          "data": {
            "text/plain": [
              "3.6666666666666665"
            ]
          },
          "metadata": {},
          "execution_count": 36
        }
      ]
    },
    {
      "cell_type": "code",
      "source": [
        "my_list.std()"
      ],
      "metadata": {
        "colab": {
          "base_uri": "https://localhost:8080/"
        },
        "id": "3R-AJocVBCSX",
        "outputId": "d44ef5ae-4986-4e01-a8d2-c961b544f3f0"
      },
      "id": "3R-AJocVBCSX",
      "execution_count": 37,
      "outputs": [
        {
          "output_type": "execute_result",
          "data": {
            "text/plain": [
              "1.9720265943665387"
            ]
          },
          "metadata": {},
          "execution_count": 37
        }
      ]
    },
    {
      "cell_type": "code",
      "source": [
        "#median\n",
        "np.median(my_list)"
      ],
      "metadata": {
        "colab": {
          "base_uri": "https://localhost:8080/"
        },
        "id": "obNBThQHB05s",
        "outputId": "3b20b674-bf5b-4d47-be78-e865e8aa89f6"
      },
      "id": "obNBThQHB05s",
      "execution_count": 39,
      "outputs": [
        {
          "output_type": "execute_result",
          "data": {
            "text/plain": [
              "3.5"
            ]
          },
          "metadata": {},
          "execution_count": 39
        }
      ]
    },
    {
      "cell_type": "code",
      "source": [
        "#Moda\n",
        "my_list = np.array([1,2,3,3,4,5,7,7])\n",
        "from scipy import stats\n",
        "mode = stats.mode(my_list)\n",
        "print(mode)"
      ],
      "metadata": {
        "colab": {
          "base_uri": "https://localhost:8080/"
        },
        "id": "II37ZqhYCCMS",
        "outputId": "d09cb95e-9eeb-4f91-d68b-4658c45cadf2"
      },
      "id": "II37ZqhYCCMS",
      "execution_count": 44,
      "outputs": [
        {
          "output_type": "stream",
          "name": "stdout",
          "text": [
            "ModeResult(mode=array([3]), count=array([2]))\n"
          ]
        }
      ]
    }
  ],
  "metadata": {
    "kernelspec": {
      "display_name": "Python 3",
      "language": "python",
      "name": "python3"
    },
    "language_info": {
      "codemirror_mode": {
        "name": "ipython",
        "version": 3
      },
      "file_extension": ".py",
      "mimetype": "text/x-python",
      "name": "python",
      "nbconvert_exporter": "python",
      "pygments_lexer": "ipython3",
      "version": "3.6.12"
    },
    "colab": {
      "name": "rbb.ipynb",
      "provenance": [],
      "collapsed_sections": [],
      "include_colab_link": true
    }
  },
  "nbformat": 4,
  "nbformat_minor": 5
}